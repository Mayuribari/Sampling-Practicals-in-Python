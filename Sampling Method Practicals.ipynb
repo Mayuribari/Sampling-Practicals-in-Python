{
 "cells": [
  {
   "cell_type": "markdown",
   "id": "aed53a5b",
   "metadata": {},
   "source": [
    "# Sampling methods practicals"
   ]
  },
  {
   "cell_type": "markdown",
   "id": "9e7ba830",
   "metadata": {},
   "source": [
    "# Topic 1 : Introduction to different statistical Software Packages"
   ]
  },
  {
   "cell_type": "code",
   "execution_count": 4,
   "id": "5afdd39b",
   "metadata": {},
   "outputs": [
    {
     "data": {
      "text/plain": [
       "'58.2 66.9 53.5 53.0 53.2 52.5 53.4 56.5 65.3 70.7\\n55.3 53.4 52.1 51.5 51.5 52.4 53.3 55.5 61.2 69.6\\n69.3 58.5 55.3 53.6 52.3 51.5 51.7 51.5 52.5 57.1\\n63.6 68.8 68.9 60.1 55.6 53.9 53.3 53.1 53.5 53.5\\n53.9 57.1 64.7 69.4 70.3 62.6 57.9 55.8 54.8 54.2\\n\\n54.6 54.3 54.8 58.1 68.1 73.3 75.5 66.4 60.5 57.7'"
      ]
     },
     "execution_count": 4,
     "metadata": {},
     "output_type": "execute_result"
    }
   ],
   "source": [
    "#1. Construct the following graphs of the following data\n",
    "\"\"\"58.2 66.9 53.5 53.0 53.2 52.5 53.4 56.5 65.3 70.7\n",
    "55.3 53.4 52.1 51.5 51.5 52.4 53.3 55.5 61.2 69.6\n",
    "69.3 58.5 55.3 53.6 52.3 51.5 51.7 51.5 52.5 57.1\n",
    "63.6 68.8 68.9 60.1 55.6 53.9 53.3 53.1 53.5 53.5\n",
    "53.9 57.1 64.7 69.4 70.3 62.6 57.9 55.8 54.8 54.2\n",
    "\n",
    "54.6 54.3 54.8 58.1 68.1 73.3 75.5 66.4 60.5 57.7\"\"\"\n",
    "#i) Steam & leaf plot\n",
    "#ii) Histogram\n",
    "#iii) Dot plot\n",
    "#iv) Box plot "
   ]
  },
  {
   "cell_type": "code",
   "execution_count": 5,
   "id": "20f4ca72",
   "metadata": {},
   "outputs": [],
   "source": [
    "import matplotlib.pyplot as plt\n",
    "import numpy as np"
   ]
  },
  {
   "cell_type": "code",
   "execution_count": 6,
   "id": "319a8288",
   "metadata": {},
   "outputs": [
    {
     "name": "stdout",
     "output_type": "stream",
     "text": [
      "(58.2, 66.9, 53.5, 53.0, 53.2, 52.5, 53.4, 56.5, 65.3, 70.7, 55.3, 53.4, 52.1, 51.5, 51.5, 52.4, 53.3, 55.5, 61.2, 69.6, 69.3, 58.5, 55.3, 53.6, 52.3, 51.5, 51.7, 51.5, 52.5, 57.1, 63.6, 68.8, 68.9, 60.1, 55.6, 53.9, 53.3, 53.1, 53.5, 53.5, 53.9, 57.1, 64.7, 69.4, 70.3, 62.6, 57.9, 55.8, 54.8, 54.2, 54.6, 54.3, 54.8, 58.1, 68.1, 73.3, 75.5, 66.4, 60.5, 57.7)\n"
     ]
    }
   ],
   "source": [
    "x=(58.2,66.9,53.5,53.0 ,53.2 ,52.5 ,53.4, 56.5 ,65.3, 70.7, 55.3 ,53.4 ,52.1 ,51.5, 51.5 ,52.4 ,53.3 ,55.5, 61.2 ,69.6, 69.3 ,58.5, 55.3, 53.6 ,52.3 ,51.5, 51.7 ,51.5 ,52.5 ,57.1,\n",
    "63.6, 68.8, 68.9, 60.1, 55.6 ,53.9 ,53.3 ,53.1,53.5 ,53.5, 53.9 ,57.1 ,64.7 ,69.4 ,70.3, 62.6, 57.9, 55.8, 54.8, 54.2, 54.6, 54.3 ,54.8 ,58.1 ,68.1 ,73.3 ,75.5, 66.4, 60.5, 57.7)\n",
    "print(x)"
   ]
  },
  {
   "cell_type": "code",
   "execution_count": 7,
   "id": "aa5a3ef2",
   "metadata": {},
   "outputs": [
    {
     "data": {
      "text/plain": [
       "<function matplotlib.pyplot.show(close=None, block=None)>"
      ]
     },
     "execution_count": 7,
     "metadata": {},
     "output_type": "execute_result"
    },
    {
     "data": {
      "image/png": "[encoded data removed]",
      "text/plain": [
       "<Figure size 432x288 with 1 Axes>"
      ]
     },
     "metadata": {
      "needs_background": "light"
     },
     "output_type": "display_data"
    }
   ],
   "source": [
    "plt.hist(x)\n",
    "plt.show"
   ]
  },
  {
   "cell_type": "code",
   "execution_count": 8,
   "id": "c60be288",
   "metadata": {},
   "outputs": [
    {
     "data": {
      "text/plain": [
       "<function matplotlib.pyplot.show(close=None, block=None)>"
      ]
     },
     "execution_count": 8,
     "metadata": {},
     "output_type": "execute_result"
    },
    {
     "data": {
      "image/png": "[encoded data removed]",
      "text/plain": [
       "<Figure size 432x288 with 1 Axes>"
      ]
     },
     "metadata": {
      "needs_background": "light"
     },
     "output_type": "display_data"
    }
   ],
   "source": [
    "#Dotplot\n",
    "plt.plot(x,'ro')\n",
    "plt.show"
   ]
  },
  {
   "cell_type": "code",
   "execution_count": 9,
   "id": "a179acc5",
   "metadata": {},
   "outputs": [
    {
     "data": {
      "text/plain": [
       "<function matplotlib.pyplot.show(close=None, block=None)>"
      ]
     },
     "execution_count": 9,
     "metadata": {},
     "output_type": "execute_result"
    },
    {
     "data": {
      "image/png": "[encoded data removed]",
      "text/plain": [
       "<Figure size 432x288 with 1 Axes>"
      ]
     },
     "metadata": {
      "needs_background": "light"
     },
     "output_type": "display_data"
    }
   ],
   "source": [
    "#boxplot\n",
    "plt.boxplot(x)\n",
    "plt.show"
   ]
  },
  {
   "cell_type": "markdown",
   "id": "a85a391d",
   "metadata": {},
   "source": [
    "# Topic 2: Random Sampling and Sampling distributions"
   ]
  },
  {
   "cell_type": "markdown",
   "id": "78338533",
   "metadata": {},
   "source": [
    "Que 1. Generate random sample of size 10,000 from Poisson(lamada =3). Treat this generated sample data as characteristic values of study variables of the population of the size 10,000.\n",
    "\n",
    "Now, draw 5 random samples of size 100 each from this population using SRSWOR Obtain estimate of population mean based on each sample data by using sample mean as an estimator for population mean. Also find the amount of sampling error from your estimates."
   ]
  },
  {
   "cell_type": "code",
   "execution_count": 10,
   "id": "ce2b50e6",
   "metadata": {},
   "outputs": [],
   "source": [
    "import numpy as np\n",
    "import pandas as pd"
   ]
  },
  {
   "cell_type": "code",
   "execution_count": 11,
   "id": "4f3e920b",
   "metadata": {},
   "outputs": [
    {
     "name": "stdout",
     "output_type": "stream",
     "text": [
      "Sample Mean of 1 sample is 3.120\n",
      "Sample Mean of 2 sample is 2.990\n",
      "Sample Mean of 3 sample is 3.080\n",
      "Sample Mean of 4 sample is 3.080\n",
      "Sample Mean of 5 sample is 2.970\n",
      "Population Mean is 3.022\n",
      "Sampling Errors are as follows: [0.0976 0.0324 0.0576 0.0576 0.0524]\n"
     ]
    }
   ],
   "source": [
    "population = pd.DataFrame({'id':np.arange(1,10001),'X':np.random.poisson(3,10000)})\n",
    "population.head()   \n",
    "sample_means=np.zeros(5)\n",
    "pop_mean=np.mean(population.X)\n",
    "for i in range(5):\n",
    "    temp=population.X[np.random.choice(10000,100)]\n",
    "    sample_means[i]=np.mean(temp)\n",
    "    print('Sample Mean of %d sample is %1.3f'%(i+1,sample_means[i]))\n",
    "print('Population Mean is %1.3f'%(pop_mean))\n",
    "print('Sampling Errors are as follows:',abs(sample_means-pop_mean))"
   ]
  },
  {
   "cell_type": "markdown",
   "id": "ab908b79",
   "metadata": {},
   "source": [
    "Que 2.Draw 10,000 samples of size 25 from Normal (100,2,3)and study the sampling distribution of following statistics for n=5, 10, 25."
   ]
  },
  {
   "cell_type": "code",
   "execution_count": 12,
   "id": "f1135298",
   "metadata": {},
   "outputs": [],
   "source": [
    "#1)Y bar 2)Sy^2 3)min 4)max 5)range"
   ]
  },
  {
   "cell_type": "code",
   "execution_count": 13,
   "id": "4c8d1a83",
   "metadata": {},
   "outputs": [],
   "source": [
    "pop1=np.random.normal(100,3,(10000,25))"
   ]
  },
  {
   "cell_type": "code",
   "execution_count": 14,
   "id": "c7a305f5",
   "metadata": {},
   "outputs": [
    {
     "data": {
      "text/html": [
       "<div>\n",
       "<style scoped>\n",
       "    .dataframe tbody tr th:only-of-type {\n",
       "        vertical-align: middle;\n",
       "    }\n",
       "\n",
       "    .dataframe tbody tr th {\n",
       "        vertical-align: top;\n",
       "    }\n",
       "\n",
       "    .dataframe thead th {\n",
       "        text-align: right;\n",
       "    }\n",
       "</style>\n",
       "<table border=\"1\" class=\"dataframe\">\n",
       "  <thead>\n",
       "    <tr style=\"text-align: right;\">\n",
       "      <th></th>\n",
       "      <th>En5</th>\n",
       "      <th>Vn5</th>\n",
       "      <th>En10</th>\n",
       "      <th>Vn10</th>\n",
       "      <th>En25</th>\n",
       "      <th>Vn25</th>\n",
       "    </tr>\n",
       "  </thead>\n",
       "  <tbody>\n",
       "    <tr>\n",
       "      <th>Ybar</th>\n",
       "      <td>0.0</td>\n",
       "      <td>0.0</td>\n",
       "      <td>0.0</td>\n",
       "      <td>0.0</td>\n",
       "      <td>0.0</td>\n",
       "      <td>0.0</td>\n",
       "    </tr>\n",
       "    <tr>\n",
       "      <th>S2Y</th>\n",
       "      <td>0.0</td>\n",
       "      <td>0.0</td>\n",
       "      <td>0.0</td>\n",
       "      <td>0.0</td>\n",
       "      <td>0.0</td>\n",
       "      <td>0.0</td>\n",
       "    </tr>\n",
       "    <tr>\n",
       "      <th>Min</th>\n",
       "      <td>0.0</td>\n",
       "      <td>0.0</td>\n",
       "      <td>0.0</td>\n",
       "      <td>0.0</td>\n",
       "      <td>0.0</td>\n",
       "      <td>0.0</td>\n",
       "    </tr>\n",
       "    <tr>\n",
       "      <th>Max</th>\n",
       "      <td>0.0</td>\n",
       "      <td>0.0</td>\n",
       "      <td>0.0</td>\n",
       "      <td>0.0</td>\n",
       "      <td>0.0</td>\n",
       "      <td>0.0</td>\n",
       "    </tr>\n",
       "    <tr>\n",
       "      <th>Range</th>\n",
       "      <td>0.0</td>\n",
       "      <td>0.0</td>\n",
       "      <td>0.0</td>\n",
       "      <td>0.0</td>\n",
       "      <td>0.0</td>\n",
       "      <td>0.0</td>\n",
       "    </tr>\n",
       "  </tbody>\n",
       "</table>\n",
       "</div>"
      ],
      "text/plain": [
       "       En5  Vn5  En10  Vn10  En25  Vn25\n",
       "Ybar   0.0  0.0   0.0   0.0   0.0   0.0\n",
       "S2Y    0.0  0.0   0.0   0.0   0.0   0.0\n",
       "Min    0.0  0.0   0.0   0.0   0.0   0.0\n",
       "Max    0.0  0.0   0.0   0.0   0.0   0.0\n",
       "Range  0.0  0.0   0.0   0.0   0.0   0.0"
      ]
     },
     "execution_count": 14,
     "metadata": {},
     "output_type": "execute_result"
    }
   ],
   "source": [
    "df=pd.DataFrame(np.zeros((5,6)))\n",
    "df.columns=['En5','Vn5','En10','Vn10','En25','Vn25']\n",
    "df.index=['Ybar','S2Y','Min','Max','Range']\n",
    "df"
   ]
  },
  {
   "cell_type": "code",
   "execution_count": 15,
   "id": "abea2ab2",
   "metadata": {},
   "outputs": [
    {
     "data": {
      "text/html": [
       "<div>\n",
       "<style scoped>\n",
       "    .dataframe tbody tr th:only-of-type {\n",
       "        vertical-align: middle;\n",
       "    }\n",
       "\n",
       "    .dataframe tbody tr th {\n",
       "        vertical-align: top;\n",
       "    }\n",
       "\n",
       "    .dataframe thead th {\n",
       "        text-align: right;\n",
       "    }\n",
       "</style>\n",
       "<table border=\"1\" class=\"dataframe\">\n",
       "  <thead>\n",
       "    <tr style=\"text-align: right;\">\n",
       "      <th></th>\n",
       "      <th>En5</th>\n",
       "      <th>Vn5</th>\n",
       "      <th>En10</th>\n",
       "      <th>Vn10</th>\n",
       "      <th>En25</th>\n",
       "      <th>Vn25</th>\n",
       "    </tr>\n",
       "  </thead>\n",
       "  <tbody>\n",
       "    <tr>\n",
       "      <th>Ybar</th>\n",
       "      <td>99.994224</td>\n",
       "      <td>1.856436</td>\n",
       "      <td>99.996644</td>\n",
       "      <td>0.906549</td>\n",
       "      <td>99.998604</td>\n",
       "      <td>0.356610</td>\n",
       "    </tr>\n",
       "    <tr>\n",
       "      <th>S2Y</th>\n",
       "      <td>9.031743</td>\n",
       "      <td>41.353098</td>\n",
       "      <td>9.078843</td>\n",
       "      <td>18.127782</td>\n",
       "      <td>9.048099</td>\n",
       "      <td>6.808804</td>\n",
       "    </tr>\n",
       "    <tr>\n",
       "      <th>Min</th>\n",
       "      <td>96.499937</td>\n",
       "      <td>16.426908</td>\n",
       "      <td>95.365144</td>\n",
       "      <td>24.658434</td>\n",
       "      <td>94.083209</td>\n",
       "      <td>37.350458</td>\n",
       "    </tr>\n",
       "    <tr>\n",
       "      <th>Max</th>\n",
       "      <td>103.485511</td>\n",
       "      <td>16.280625</td>\n",
       "      <td>104.643265</td>\n",
       "      <td>24.708717</td>\n",
       "      <td>105.914610</td>\n",
       "      <td>37.306744</td>\n",
       "    </tr>\n",
       "    <tr>\n",
       "      <th>Range</th>\n",
       "      <td>6.985573</td>\n",
       "      <td>55.621192</td>\n",
       "      <td>9.278122</td>\n",
       "      <td>91.853931</td>\n",
       "      <td>11.831401</td>\n",
       "      <td>144.579197</td>\n",
       "    </tr>\n",
       "  </tbody>\n",
       "</table>\n",
       "</div>"
      ],
      "text/plain": [
       "              En5        Vn5        En10       Vn10        En25        Vn25\n",
       "Ybar    99.994224   1.856436   99.996644   0.906549   99.998604    0.356610\n",
       "S2Y      9.031743  41.353098    9.078843  18.127782    9.048099    6.808804\n",
       "Min     96.499937  16.426908   95.365144  24.658434   94.083209   37.350458\n",
       "Max    103.485511  16.280625  104.643265  24.708717  105.914610   37.306744\n",
       "Range    6.985573  55.621192    9.278122  91.853931   11.831401  144.579197"
      ]
     },
     "execution_count": 15,
     "metadata": {},
     "output_type": "execute_result"
    }
   ],
   "source": [
    "n=[5,10,25]\n",
    "for i in range(3):\n",
    "    x=pop1[:,:n[i]]\n",
    "    df.iloc[0,2*i]=np.mean(np.mean(x,axis=1))\n",
    "    df.iloc[0,2*i+1]=np.mean((np.mean(x,axis=1)-100)**2)\n",
    "    \n",
    "    df.iloc[1,2*i]=np.mean(np.var(x,axis=1,ddof=1))\n",
    "    df.iloc[1,2*i+1]=np.mean((np.var(x,axis=1,ddof=1)-9)**2)\n",
    "    \n",
    "    df.iloc[2,2*i]=np.mean(np.min(x,axis=1))\n",
    "    df.iloc[2,2*i+1]=np.mean((np.min(x,axis=1)-100)**2)\n",
    "\n",
    "    df.iloc[3,2*i]=np.mean(np.max(x,axis=1))\n",
    "    df.iloc[3,2*i+1]=np.mean((np.max(x,axis=1)-100)**2)\n",
    "\n",
    "    df.iloc[4,2*i]=np.mean(np.max(x,axis=1)-np.min(x,axis=1))\n",
    "    df.iloc[4,2*i+1]=np.mean((np.max(x,axis=1)-np.min(x,axis=1))**2)\n",
    "    \n",
    "df"
   ]
  },
  {
   "cell_type": "markdown",
   "id": "3d5dc934",
   "metadata": {},
   "source": [
    "# Topic 3: Estimation of population parameters in SRS."
   ]
  },
  {
   "cell_type": "code",
   "execution_count": 16,
   "id": "f8cdcb42",
   "metadata": {},
   "outputs": [],
   "source": [
    "import random"
   ]
  },
  {
   "cell_type": "code",
   "execution_count": 17,
   "id": "0e1aa016",
   "metadata": {},
   "outputs": [],
   "source": [
    "from random import sample"
   ]
  },
  {
   "cell_type": "code",
   "execution_count": 18,
   "id": "99c0d272",
   "metadata": {},
   "outputs": [
    {
     "name": "stdout",
     "output_type": "stream",
     "text": [
      "[144, 56, 79, 4, 155, 102, 58, 19]\n"
     ]
    }
   ],
   "source": [
    "#Que 1\n",
    "pop=[98,19,4,137,155,270,64,69,127,292,79,81,144,104,240,273,141,56,117,201,130,58,102,170,261,158,29,102,210,189,116,46,187,101,194,93,161,222,41,127,223,33,114,76,96,78,88,137,114,56,108,179,318,58,58,76,272]\n",
    "N=(len(pop))\n",
    "n=8\n",
    "y=(sample(pop,8))\n",
    "print(y)"
   ]
  },
  {
   "cell_type": "code",
   "execution_count": 19,
   "id": "cf9ea252",
   "metadata": {},
   "outputs": [],
   "source": [
    "import statistics"
   ]
  },
  {
   "cell_type": "code",
   "execution_count": 20,
   "id": "fbf590dd",
   "metadata": {},
   "outputs": [
    {
     "name": "stdout",
     "output_type": "stream",
     "text": [
      "77.125\n"
     ]
    }
   ],
   "source": [
    "#Estimate of population mean (average area per village under paddy)\n",
    "Y_bar=statistics.mean(y)\n",
    "print(Y_bar)\n"
   ]
  },
  {
   "cell_type": "code",
   "execution_count": 21,
   "id": "8341e110",
   "metadata": {},
   "outputs": [],
   "source": [
    "from statistics import variance"
   ]
  },
  {
   "cell_type": "code",
   "execution_count": 22,
   "id": "96077e01",
   "metadata": {},
   "outputs": [
    {
     "name": "stdout",
     "output_type": "stream",
     "text": [
      "5676.375939849624\n",
      "609.9614496768237\n",
      "24.697397629645593\n"
     ]
    }
   ],
   "source": [
    "#Variance of Y_bar and SE of Y_bar\n",
    "sy_2=statistics.variance(pop)\n",
    "print(sy_2)\n",
    "var_Y_bar=(1/n-1/N)*sy_2\n",
    "print(var_Y_bar)\n",
    "SE_Y_bar=(var_Y_bar)**0.5\n",
    "print(SE_Y_bar)"
   ]
  },
  {
   "cell_type": "code",
   "execution_count": 23,
   "id": "5dd5457b",
   "metadata": {},
   "outputs": [
    {
     "name": "stdout",
     "output_type": "stream",
     "text": [
      "2956.6964285714284\n",
      "317.71518640350877\n",
      "17.82456693452912\n"
     ]
    }
   ],
   "source": [
    "#Est Variance of Y_bar and SE of Y_bar\n",
    "S_Y_2=statistics.variance(y)\n",
    "print(S_Y_2)\n",
    "Est_var_Y_bar=(1/n-1/N)*S_Y_2\n",
    "print(Est_var_Y_bar)\n",
    "Est_SE_Y_bar=Est_var_Y_bar**0.5\n",
    "print(Est_SE_Y_bar)"
   ]
  },
  {
   "cell_type": "code",
   "execution_count": 24,
   "id": "fae81da3",
   "metadata": {},
   "outputs": [
    {
     "name": "stdout",
     "output_type": "stream",
     "text": [
      "30\n",
      "14848\n",
      "3.466666666666667\n",
      "51473.066666666666\n"
     ]
    }
   ],
   "source": [
    "#Que 2\n",
    "##Que 3\n",
    "x=(5,6,3,3,2,3,3,3,4,4,3,2,7,4,3,5,4,4,3,3,4,3,3,1,2,4,3,4,2,4)\n",
    "print(len(x))\n",
    "N=14848\n",
    "print(N)\n",
    "mean=statistics.mean(x)\n",
    "print(mean)\n",
    "population_total=N*mean\n",
    "print(population_total)\n"
   ]
  },
  {
   "cell_type": "markdown",
   "id": "93b60a22",
   "metadata": {},
   "source": [
    "# Topic 4: Determination of Sample size and Estimation of population proportion."
   ]
  },
  {
   "cell_type": "code",
   "execution_count": 25,
   "id": "8c749e8c",
   "metadata": {},
   "outputs": [
    {
     "name": "stdout",
     "output_type": "stream",
     "text": [
      "1.959964\n",
      "91.63626045044839\n",
      "95.9884537963838\n"
     ]
    }
   ],
   "source": [
    "#Que 1\n",
    "N=2000\n",
    "sy2=10000\n",
    "e=20\n",
    "a=0.05/2\n",
    "z= 1.959964\n",
    "print(z)\n",
    "n_WOR=(N*(z**2)*sy2)/((N*e**2)+(z**2*sy2))\n",
    "print(n_WOR)\n",
    "n_WR=((N-1)*(z**2)*sy2)/(N*e**2)\n",
    "print(n_WR)"
   ]
  },
  {
   "cell_type": "code",
   "execution_count": 26,
   "id": "386ad669",
   "metadata": {},
   "outputs": [
    {
     "name": "stdout",
     "output_type": "stream",
     "text": [
      "1.959964\n",
      "134.5705009939886\n",
      "138.26486122271066\n"
     ]
    }
   ],
   "source": [
    "#Que 2\n",
    "N=5000\n",
    "e=0.1\n",
    "z= 1.959964\n",
    "print(z)\n",
    "sy_e=6 \n",
    "n_WOR=(N*(z**2)*(sy_e)**2)/(N+(z**2)*(sy_e)**2)\n",
    "n_WR=((N-1)*(z**2)*(sy_e)**2)/N\n",
    "print(n_WOR)\n",
    "print(n_WR)\n",
    "\n"
   ]
  },
  {
   "cell_type": "code",
   "execution_count": 27,
   "id": "b81720d3",
   "metadata": {},
   "outputs": [
    {
     "name": "stdout",
     "output_type": "stream",
     "text": [
      "0.6\n",
      "1.644854\n",
      "611.3605383010492\n"
     ]
    }
   ],
   "source": [
    "#Que 3\n",
    "N=4000\n",
    "phat=30/50\n",
    "print(phat)\n",
    "e=0.05*phat\n",
    "z=1.644854\n",
    "print(z)\n",
    "n=(N*z**2*phat*(1-phat))/((N-1)*e**2+z**2*phat*(1-phat))\n",
    "print(n)"
   ]
  },
  {
   "cell_type": "markdown",
   "id": "306ce90c",
   "metadata": {},
   "source": [
    "# Topic 5 : Stratified random samplinf and estimation of  population parameter"
   ]
  },
  {
   "cell_type": "code",
   "execution_count": 28,
   "id": "ab445304",
   "metadata": {},
   "outputs": [
    {
     "name": "stdout",
     "output_type": "stream",
     "text": [
      "[1, 2, 3, 4, 5, 6, 7, 8, 9, 10, 11, 12, 13, 14, 15, 16, 17, 18, 19, 20, 21, 22, 23, 24, 25, 26, 27, 28, 29, 30, 31, 32, 33, 34, 35, 36, 37, 38, 39, 40, 41, 42, 43, 44, 45, 46, 47, 48, 49, 50]\n",
      "[51, 52, 53, 54, 55, 56, 57, 58, 59, 60, 61, 62, 63, 64, 65, 66, 67, 68, 69, 70, 71, 72, 73, 74, 75, 76, 77, 78, 79, 80]\n",
      "[81, 82, 83, 84, 85, 86, 87, 88, 89, 90, 91, 92, 93, 94, 95, 96, 97, 98, 99, 100, 101, 102, 103, 104, 105, 106, 107, 108, 109, 110, 111, 112, 113, 114, 115, 116, 117, 118, 119, 120, 121, 122, 123, 124, 125, 126, 127, 128, 129, 130, 131, 132, 133, 134, 135, 136, 137, 138, 139, 140, 141, 142, 143, 144, 145, 146, 147, 148, 149, 150, 151, 152, 153, 154, 155, 156, 157, 158, 159, 160, 161, 162, 163, 164, 165, 166, 167, 168, 169, 170, 171, 172, 173, 174, 175, 176, 177, 178, 179, 180]\n",
      "[181, 182, 183, 184, 185, 186, 187, 188, 189, 190, 191, 192, 193, 194, 195, 196, 197, 198, 199, 200, 201, 202, 203, 204, 205, 206, 207, 208, 209, 210, 211, 212, 213, 214, 215, 216, 217, 218, 219, 220, 221, 222, 223, 224, 225, 226, 227, 228, 229, 230, 231, 232, 233, 234, 235, 236, 237, 238, 239, 240, 241, 242, 243, 244, 245, 246, 247, 248, 249, 250]\n",
      "[50, 47, 23, 6, 12]\n",
      "[66, 64, 80]\n",
      "[93, 88, 111, 147, 123, 153, 159, 177, 134, 166, 172, 163]\n",
      "[188, 227, 195, 215, 247]\n"
     ]
    }
   ],
   "source": [
    "#Que 1\n",
    "N=250\n",
    "st_1=range(1,51)\n",
    "print(list(st_1))\n",
    "st_2=range(51,81)\n",
    "print(list(st_2))\n",
    "st_3=range(81,181)\n",
    "print(list(st_3))\n",
    "st_4=range(181,251)\n",
    "print(list(st_4))\n",
    "sam_1=(sample(st_1,5))\n",
    "print(sam_1)\n",
    "sam_2=(sample(st_2,3))\n",
    "print(sam_2)\n",
    "sam_3=(sample(st_3,12))\n",
    "print(sam_3)\n",
    "sam_4=(sample(st_4,5))\n",
    "print(sam_4)"
   ]
  },
  {
   "cell_type": "code",
   "execution_count": 29,
   "id": "8ee31591",
   "metadata": {},
   "outputs": [],
   "source": [
    "#Que 2\n",
    "#From a population with N=5000 and 3 strata with sizes 1000, 1500, N1 = N2 = N3 = 2500.In the following table sample y-values are given\n",
    " #Estimate (i) population mean (ii) S.E. of your estimate of population mean by using this sample.\n"
   ]
  },
  {
   "cell_type": "code",
   "execution_count": 30,
   "id": "e8a49807",
   "metadata": {},
   "outputs": [],
   "source": [
    "s1=np.array([5, 4, 1, 2, 4, 3, 7, 5, 0, 3])\n",
    "s2=np.array([11, 9, 13, 9, 4, 5, 5, 14, 8, 9, 11, 7, 10, 14, 7])\n",
    "s3=np.array([22, 16, 18, 18, 23, 20, 20, 19, 20, 16, 21, 20, 26, 20, 26, 18, 21, 17, 22, 21])\n",
    "N1, N2, N3=1000, 1500, 2500\n",
    "n1, n2, n3= 10, 15, 20\n",
    "N=N1+N2+N3\n",
    "n=n1+n2+n3\n",
    "\n",
    "nh=np.array([10,15,20])\n",
    "Nh=np.array([1000,1500,2500])\n",
    "\n",
    "ybarh=np.array([np.mean(s1),np.mean(s2),np.mean(s3)])\n",
    "ybarh\n",
    "\n",
    "Wh=np.array([N1,N2,N3])/N\n",
    "\n",
    "ybarst=sum(Wh*ybarh)\n",
    "\n",
    "S2h=np.array([np.var(s1,ddof=1),np.var(s2,ddof=1),np.var(s3,ddof=1)])\n",
    "S2h\n",
    "\n",
    "se_st=np.sqrt(sum(Wh*Wh*S2h*(1/nh-1/Nh)))"
   ]
  },
  {
   "cell_type": "code",
   "execution_count": 31,
   "id": "f791d7ae",
   "metadata": {},
   "outputs": [
    {
     "data": {
      "text/plain": [
       "13.5"
      ]
     },
     "execution_count": 31,
     "metadata": {},
     "output_type": "execute_result"
    }
   ],
   "source": [
    "ybarst"
   ]
  },
  {
   "cell_type": "code",
   "execution_count": 32,
   "id": "e188b8c5",
   "metadata": {},
   "outputs": [
    {
     "data": {
      "text/plain": [
       "0.41407016949202935"
      ]
     },
     "execution_count": 32,
     "metadata": {},
     "output_type": "execute_result"
    }
   ],
   "source": [
    "se_st"
   ]
  },
  {
   "cell_type": "markdown",
   "id": "b6d8c0e4",
   "metadata": {},
   "source": [
    "# Topic 6: Estimation of population parameters using Ratio method of estimation"
   ]
  },
  {
   "cell_type": "code",
   "execution_count": null,
   "id": "73842831",
   "metadata": {},
   "outputs": [],
   "source": [
    "# Que 1 The number of laborers x (in thousands) and the quantity of raw materials y (in lakhs of bales) are given below for 20 jute mills. Draw a sample of 5 units by SRSWOR. Estimate the\n",
    "# total amount of raw materials consumed by the 20 mills by (i) Sample mean estimator (ii) Ratio estimator. Compare the estimators 𝑁𝑌 and 𝑁𝑌𝑅 by using their true M.S.E.s and estimated M.S.E.s "
   ]
  },
  {
   "cell_type": "code",
   "execution_count": 134,
   "id": "e054b2fa",
   "metadata": {},
   "outputs": [
    {
     "name": "stdout",
     "output_type": "stream",
     "text": [
      "[384, 347, 472, 512, 396]\n",
      "[38, 42, 37, 41, 40]\n",
      "441.95\n",
      "422.2\n",
      "39.6\n",
      "792.0\n",
      "40860.83157894737\n",
      "382.94736842105266\n",
      "[[40860.83157895  2579.89473684]\n",
      " [ 2579.89473684   382.94736842]]\n",
      "41.452439602084326\n",
      "829.0487920416865\n",
      "[[1.         0.06313858]\n",
      " [0.06313858 0.00937199]]\n",
      "[[59.35       40.84698688]\n",
      " [40.84698688 39.78509683]]\n",
      "[[-2428673.05263158    13203.38924688]\n",
      " [   13203.38924688    22761.50333513]]\n",
      "90.95\n",
      "[[-2428673.05263158    13203.38924688]\n",
      " [   13203.38924688    22761.50333513]]\n"
     ]
    }
   ],
   "source": [
    "x=[368,384,361,347,403,529,703,396,473,509,512,503,472,429,387,376,412,345,297,633]\n",
    "y=[31,33,37,39,43,61,68,42,41,49,31,29,38,41,40,38,42,45,32,50]\n",
    "x1=(sample(x,5))\n",
    "print(x1)\n",
    "y1=(sample(y,5))\n",
    "print(y1)\n",
    "n=5;N=20\n",
    "xbar=statistics.mean(x)\n",
    "print(xbar)\n",
    "Xbar=statistics.mean(x1)\n",
    "print(Xbar)\n",
    "Ybar=statistics.mean(y1)\n",
    "print(Ybar)\n",
    "ythat=N*Ybar\n",
    "print(ythat)\n",
    "sx=statistics.variance(x)*(n-1)\n",
    "print(sx)\n",
    "sy=statistics.variance(y)*(n-1)\n",
    "print(sy)\n",
    "sxy=np.cov(x,y)*(n-1)\n",
    "print(sxy)\n",
    "Rhat=Ybar/Xbar\n",
    "Rhat\n",
    "Ybar_R=Rhat*xbar\n",
    "print(Ybar_R)\n",
    "ythat_R=N*Ybar_R\n",
    "print(ythat_R)\n",
    "betahat=sxy/sx\n",
    "print(betahat)\n",
    "Ybar_reg=Ybar+betahat*(xbar-Xbar)\n",
    "print( Ybar_reg)\n",
    "MSE_Ythat_R=N**2*(1/n-1/N)*(sy+betahat**2*sx-2*betahat*sxy)\n",
    "print(MSE_Ythat_R)\n",
    "sh2=np.var(y)\n",
    "print(sh2)\n",
    "C=N**2*(1/n-1/N)*sh2\n",
    "print(MSE_Ythat_R)"
   ]
  },
  {
   "cell_type": "code",
   "execution_count": null,
   "id": "ec9d7af7",
   "metadata": {},
   "outputs": [],
   "source": []
  },
  {
   "cell_type": "code",
   "execution_count": null,
   "id": "b3b569c5",
   "metadata": {},
   "outputs": [],
   "source": []
  }
 ],
 "metadata": {
  "kernelspec": {
   "display_name": "Python 3 (ipykernel)",
   "language": "python",
   "name": "python3"
  },
  "language_info": {
   "codemirror_mode": {
    "name": "ipython",
    "version": 3
   },
   "file_extension": ".py",
   "mimetype": "text/x-python",
   "name": "python",
   "nbconvert_exporter": "python",
   "pygments_lexer": "ipython3",
   "version": "3.10.2"
  }
 },
 "nbformat": 4,
 "nbformat_minor": 5
}
